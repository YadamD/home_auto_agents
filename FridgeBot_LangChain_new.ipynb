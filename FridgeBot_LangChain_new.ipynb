{
 "cells": [
  {
   "cell_type": "code",
   "execution_count": 24,
   "metadata": {},
   "outputs": [],
   "source": [
    "from langchain.tools import StructuredTool\n",
    "from langchain_core.pydantic_v1 import BaseModel, Field\n",
    "from langchain.agents import create_openai_functions_agent, AgentExecutor\n",
    "from langchain.prompts import ChatPromptTemplate\n",
    "import pandas as pd\n",
    "from openai import OpenAI\n",
    "import os\n"
   ]
  },
  {
   "cell_type": "code",
   "execution_count": 25,
   "metadata": {},
   "outputs": [],
   "source": [
    "from langchain.agents import create_openai_functions_agent, AgentExecutor\n",
    "from langchain_openai import ChatOpenAI\n",
    "from langchain.tools import StructuredTool\n",
    "from langchain.pydantic_v1 import BaseModel, Field\n",
    "from langchain.tools import BaseTool, StructuredTool, tool\n",
    "import pandas as pd\n",
    "\n",
    "from langchain_core.prompts import ChatPromptTemplate, MessagesPlaceholder\n",
    "\n",
    "from langgraph.checkpoint.memory import MemorySaver\n",
    "from langgraph.graph import END, StateGraph, MessagesState\n",
    "from langgraph.prebuilt import ToolNode\n",
    "from typing import Annotated, Literal, TypedDict\n",
    "\n",
    "from langchain_core.messages import HumanMessage"
   ]
  },
  {
   "cell_type": "code",
   "execution_count": 26,
   "metadata": {},
   "outputs": [],
   "source": [
    "\n",
    "# Load and save functions\n",
    "def load_inventory(filepath='inventory.csv'):\n",
    "    return pd.read_csv(filepath)\n",
    "\n",
    "def save_inventory(df, filepath='inventory.csv'):\n",
    "    df.to_csv(filepath, index=False)\n"
   ]
  },
  {
   "cell_type": "code",
   "execution_count": 27,
   "metadata": {},
   "outputs": [],
   "source": [
    "\n",
    "# Adjust quantity tool\n",
    "class AdjustQuantityInput(BaseModel):\n",
    "    item: str = Field(description=\"The name of the item to adjust in the inventory. Convert to singular form and correct grammar\")\n",
    "    quantity: int = Field(description=\"The quantity to adjust (positive to add, negative to remove)\")\n",
    "\n",
    "# Set quantity tool\n",
    "class SetQuantityInput(BaseModel):\n",
    "    item: str = Field(description=\"The name of the item to set in the inventory\")\n",
    "    quantity: int = Field(description=\"The total quantity to set for the item\")\n",
    "\n",
    "class CheckQuantity(BaseModel):\n",
    "    item: str = Field(description=\"The name of the item to check in the inventory\")\n"
   ]
  },
  {
   "cell_type": "code",
   "execution_count": 28,
   "metadata": {},
   "outputs": [],
   "source": [
    "\n",
    "@tool(\"adjust-tool\",args_schema=AdjustQuantityInput, return_direct=True)\n",
    "def adjust_quantity(item: str, quantity: int) -> str:\n",
    "    '''Adjust the quantity of an item in the inventory (add or remove).'''\n",
    "    df = load_inventory()\n",
    "    if item in df['item'].values:\n",
    "        current_quantity = df.loc[df['item'] == item, 'quantity'].values[0]\n",
    "        new_quantity = current_quantity + quantity\n",
    "        if new_quantity < 0:\n",
    "            df.loc[df['item'] == item, 'quantity'] = 0\n",
    "            result = f\"Warning: {item} cannot have a negative quantity. Set to 0 instead.\"\n",
    "        else:\n",
    "            df.loc[df['item'] == item, 'quantity'] = new_quantity\n",
    "            result = f\"Updated {item} by {quantity}. New quantity is {new_quantity}.\"\n",
    "    else:\n",
    "        df = pd.concat([df,pd.DataFrame([{'item': item, 'quantity': max(quantity, 0)}])], ignore_index=True)\n",
    "        result = f\"Added {item} to inventory with quantity {max(quantity, 0)}.\"\n",
    "    save_inventory(df)\n",
    "    return result\n",
    "\n",
    "@tool(\"set-tool\",args_schema=SetQuantityInput, return_direct=True)\n",
    "def set_quantity(item: str, quantity: int) -> str:\n",
    "    '''Set the total quantity of an item in the inventory.'''\n",
    "    df = load_inventory()\n",
    "    if item in df['item'].values:\n",
    "        df.loc[df['item'] == item, 'quantity'] = quantity\n",
    "        result = f\"Set the quantity of {item} to {quantity}.\"\n",
    "    else:\n",
    "        df = pd.concat([df,pd.DataFrame([{'item': item, 'quantity': max(quantity, 0)}])], ignore_index=True)\n",
    "        result = f\"Added {item} to inventory with quantity {quantity}.\"\n",
    "    save_inventory(df)\n",
    "    return result\n",
    "\n",
    "@tool(\"check-tool\",args_schema=CheckQuantity, return_direct=True)\n",
    "def check_quantity(item: str) -> str:\n",
    "    '''Check and return the quantity of an item in the inventory.'''\n",
    "    df = load_inventory()\n",
    "    if item in df['item'].values:\n",
    "        quantity = df.loc[df['item'] == item, 'quantity'] \n",
    "        result = f\"The number of {item}s in the fridge is {quantity}.\"\n",
    "    else:\n",
    "        result = f\"There are no {item}s in the fridge\"\n",
    "    save_inventory(df)\n",
    "    return result"
   ]
  },
  {
   "cell_type": "code",
   "execution_count": 29,
   "metadata": {},
   "outputs": [],
   "source": [
    "tools=[adjust_quantity, set_quantity, check_quantity]\n",
    "tool_node = ToolNode(tools)\n",
    "\n",
    "model = ChatOpenAI(model=\"gpt-4o\", temperature=0).bind_tools(tools)\n"
   ]
  },
  {
   "cell_type": "code",
   "execution_count": 30,
   "metadata": {},
   "outputs": [],
   "source": [
    "\n",
    "def should_continue(state: MessagesState) -> Literal[\"tools\", END]:\n",
    "    messages = state['messages']\n",
    "    last_message = messages[-1]\n",
    "    # If the LLM makes a tool call, then we route to the \"tools\" node\n",
    "    if last_message.tool_calls:\n",
    "        return \"tools\"\n",
    "    # Otherwise, we stop (reply to the user)\n",
    "    return END\n",
    "\n",
    "# Define the function that calls the model\n",
    "def call_model(state: MessagesState):\n",
    "    messages = state['messages']\n",
    "    response = model.invoke(messages)\n",
    "    # We return a list, because this will get added to the existing list\n",
    "    return {\"messages\": [response]}"
   ]
  },
  {
   "cell_type": "code",
   "execution_count": 31,
   "metadata": {},
   "outputs": [],
   "source": [
    "workflow = StateGraph(MessagesState)\n",
    "\n",
    "# Define the two nodes we will cycle between\n",
    "workflow.add_node(\"agent\", call_model)\n",
    "workflow.add_node(\"tools\", tool_node)\n",
    "\n",
    "# Set the entrypoint as `agent`\n",
    "# This means that this node is the first one called\n",
    "workflow.set_entry_point(\"agent\")\n",
    "\n",
    "# We now add a conditional edge\n",
    "workflow.add_conditional_edges(\n",
    "    # First, we define the start node. We use `agent`.\n",
    "    # This means these are the edges taken after the `agent` node is called.\n",
    "    \"agent\",\n",
    "    # Next, we pass in the function that will determine which node is called next.\n",
    "    should_continue,\n",
    ")\n",
    "\n",
    "# We now add a normal edge from `tools` to `agent`.\n",
    "# This means that after `tools` is called, `agent` node is called next.\n",
    "workflow.add_edge(\"tools\", 'agent')\n",
    "\n",
    "# Initialize memory to persist state between graph runs\n",
    "checkpointer = MemorySaver()\n",
    "\n",
    "# Finally, we compile it!\n",
    "# This compiles it into a LangChain Runnable,\n",
    "# meaning you can use it as you would any other runnable.\n",
    "# Note that we're (optionally) passing the memory when compiling the graph\n",
    "app = workflow.compile(checkpointer=checkpointer)\n"
   ]
  },
  {
   "cell_type": "code",
   "execution_count": 32,
   "metadata": {},
   "outputs": [
    {
     "data": {
      "text/plain": [
       "'There are 16 apples in the fridge.'"
      ]
     },
     "execution_count": 32,
     "metadata": {},
     "output_type": "execute_result"
    }
   ],
   "source": [
    "message = \"How many apples are in the fridge?\"\n",
    "# Use the Runnable\n",
    "final_state = app.invoke(\n",
    "    {\"messages\": [HumanMessage(content=message)]},\n",
    "    config={\"configurable\": {\"thread_id\": 42}}\n",
    ")\n",
    "final_state[\"messages\"][-1].content"
   ]
  },
  {
   "cell_type": "code",
   "execution_count": 5,
   "metadata": {},
   "outputs": [
    {
     "name": "stdout",
     "output_type": "stream",
     "text": [
      "\n",
      "\n",
      "\u001b[1m> Entering new AgentExecutor chain...\u001b[0m\n",
      "\u001b[32;1m\u001b[1;3m\n",
      "Invoking: `adjust-tool` with `{'item': 'yoghurt', 'quantity': 2}`\n",
      "\n",
      "\n",
      "\u001b[0m\u001b[36;1m\u001b[1;3mUpdated yoghurt by 2. New quantity is 4.\u001b[0m\n",
      "\u001b[32;1m\u001b[1;3m\n",
      "Invoking: `adjust-tool` with `{'item': 'apple', 'quantity': 5}`\n",
      "\n",
      "\n",
      "\u001b[0m\u001b[36;1m\u001b[1;3mUpdated apple by 5. New quantity is 13.\u001b[0m\n",
      "\u001b[32;1m\u001b[1;3m\n",
      "Invoking: `adjust-tool` with `{'item': 'egg', 'quantity': 2}`\n",
      "\n",
      "\n",
      "\u001b[0m\u001b[36;1m\u001b[1;3mUpdated egg by 2. New quantity is 3.\u001b[0m\n",
      "\u001b[32;1m\u001b[1;3mI have updated the inventory:\n",
      "\n",
      "- Yoghurt: Added 2 (Total: 4)\n",
      "- Apples: Added 5 (Total: 13)\n",
      "- Eggs: Added 2 (Total: 3)\u001b[0m\n",
      "\n",
      "\u001b[1m> Finished chain.\u001b[0m\n",
      "{'input': 'I am putting 2 yoghurts, 5 apples and 2 eggs in the fridge', 'output': 'I have updated the inventory:\\n\\n- Yoghurt: Added 2 (Total: 4)\\n- Apples: Added 5 (Total: 13)\\n- Eggs: Added 2 (Total: 3)'}\n"
     ]
    }
   ],
   "source": [
    "from langchain.agents.format_scratchpad.openai_tools import (\n",
    "    format_to_openai_tool_messages,\n",
    ")\n",
    "from langchain.agents.output_parsers.openai_tools import OpenAIToolsAgentOutputParser\n",
    "\n",
    "llm = ChatOpenAI(model=\"gpt-4o\", temperature=0)\n",
    "tools=[adjust_quantity, set_quantity]\n",
    "llm_with_tools = llm.bind_tools(tools)\n",
    "\n",
    "# Create the agent\n",
    "#agent = create_openai_functions_agent(llm, tools=[adjust_tool, set_tool], prompt=prompt)\n",
    "\n",
    "agent = (\n",
    "    {\n",
    "        \"input\": lambda x: x[\"input\"],\n",
    "        \"agent_scratchpad\": lambda x: format_to_openai_tool_messages(\n",
    "            x[\"intermediate_steps\"]\n",
    "        ),\n",
    "    }\n",
    "    | prompt\n",
    "    | llm_with_tools\n",
    "    | OpenAIToolsAgentOutputParser()\n",
    ")\n",
    "\n",
    "\n",
    "# Create the executor\n",
    "agent_executor = AgentExecutor(agent=agent, tools=tools, verbose=True)\n",
    "\n",
    "# Example input\n",
    "response = agent_executor.invoke({\"input\": \"I am putting 2 yoghurts, 5 apples and 2 eggs in the fridge\"})\n",
    "print(response)"
   ]
  },
  {
   "cell_type": "code",
   "execution_count": null,
   "metadata": {},
   "outputs": [],
   "source": [
    "\n",
    "prompt = ChatPromptTemplate.from_template(\n",
    "    \"You are a fridge inventory manager. Your job is to update the inventory based on user inputs. \"\n",
    "    \"Use the tools provided to make the necessary changes. Think about which tool is the most appropriate.\"\n",
    "    \"\\n\\nCurrent thoughts:\\n{agent_scratchpad}\\n\\n\"\n",
    "    \"User input: {input}\\n\"\n",
    "    \"Action: \"\n",
    ")\n",
    "\n",
    "\n",
    "prompt = ChatPromptTemplate.from_messages(\n",
    "    [\n",
    "        (\n",
    "            \"system\",\n",
    "            \"You are a fridge inventory manager. Your job is to update the inventory based on user inputs. \"\n",
    "            \"Use the tools provided to make the necessary changes. Think about which tool is the most appropriate.\",\n",
    "        ),\n",
    "        (\"user\", \"{input}\"),\n",
    "        MessagesPlaceholder(variable_name=\"agent_scratchpad\"),\n",
    "    ]\n",
    ")"
   ]
  },
  {
   "cell_type": "code",
   "execution_count": 6,
   "metadata": {},
   "outputs": [
    {
     "name": "stdout",
     "output_type": "stream",
     "text": [
      "\n",
      "\n",
      "\u001b[1m> Entering new AgentExecutor chain...\u001b[0m\n",
      "\u001b[32;1m\u001b[1;3m\n",
      "Invoking: `adjust-tool` with `{'item': 'apple', 'quantity': 3}`\n",
      "\n",
      "\n",
      "\u001b[0m\u001b[36;1m\u001b[1;3mUpdated apple by 3. New quantity is 16.\u001b[0m\n",
      "\u001b[32;1m\u001b[1;3m\n",
      "Invoking: `adjust-tool` with `{'item': 'egg', 'quantity': -1}`\n",
      "\n",
      "\n",
      "\u001b[0m\u001b[36;1m\u001b[1;3mUpdated egg by -1. New quantity is 2.\u001b[0m\n",
      "\u001b[32;1m\u001b[1;3mThe inventory has been updated:\n",
      "- Added 3 apples. The new quantity is 16.\n",
      "- Removed 1 egg. The new quantity is 2.\u001b[0m\n",
      "\n",
      "\u001b[1m> Finished chain.\u001b[0m\n",
      "{'input': 'I put 3 apples in the fridge and also took out 1 egg', 'output': 'The inventory has been updated:\\n- Added 3 apples. The new quantity is 16.\\n- Removed 1 egg. The new quantity is 2.'}\n"
     ]
    }
   ],
   "source": [
    "response = agent_executor.invoke({\"input\": \"I put 3 apples in the fridge and also took out 1 egg\"})\n",
    "print(response)"
   ]
  },
  {
   "cell_type": "code",
   "execution_count": null,
   "metadata": {},
   "outputs": [],
   "source": []
  },
  {
   "cell_type": "code",
   "execution_count": null,
   "metadata": {},
   "outputs": [],
   "source": []
  }
 ],
 "metadata": {
  "kernelspec": {
   "display_name": "llm_agents",
   "language": "python",
   "name": "python3"
  },
  "language_info": {
   "codemirror_mode": {
    "name": "ipython",
    "version": 3
   },
   "file_extension": ".py",
   "mimetype": "text/x-python",
   "name": "python",
   "nbconvert_exporter": "python",
   "pygments_lexer": "ipython3",
   "version": "3.11.7"
  }
 },
 "nbformat": 4,
 "nbformat_minor": 2
}
