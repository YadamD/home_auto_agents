{
 "cells": [
  {
   "cell_type": "code",
   "execution_count": 51,
   "id": "556eb621-b1cb-46d6-88b4-ee94b6acb909",
   "metadata": {},
   "outputs": [],
   "source": [
    "import pandas as pd\n",
    "from openai import OpenAI\n",
    "import os\n",
    "\n",
    "#asd\n",
    "#asd\n",
    "i = 1\n",
    "\n",
    "#os.environ[\"OPENAI_API_KEY\"] = #ADD API Key\n",
    "\n",
    "\n",
    "client = OpenAI()\n",
    "\n",
    "\n",
    "instructions=\"You are a fridge inventory bot. Use the provided functions to answer questions.\",\n",
    "model=\"gpt-4-turbo\",\n",
    "\n",
    "\n",
    "file = client.files.create(\n",
    "  file=open(\"./data/fridge_inventory.csv\", \"rb\"),\n",
    "  purpose='assistants'\n",
    ")\n",
    "\n",
    "tools=[\n",
    "    {\n",
    "      \"type\": \"function\",\n",
    "      \"function\": {\n",
    "        \"name\": \"edit_inventory_table\",\n",
    "        \"description\": \"Edit the inventory table of the items that are in the fridge. Use this when items are added or removed from the fridge, or whenever information about the quantity or quality of items in the fridge are stated\",\n",
    "        \"parameters\": {\n",
    "          \"type\": \"object\",\n",
    "          \"properties\": {\n",
    "            \"item\": {\n",
    "              \"type\": \"string\",\n",
    "              \"description\": \"The name of the food item that is in or is being added to the inventory of the fridge\"\n",
    "            },\n",
    "            \"count_type\": {\n",
    "              \"type\": \"string\",\n",
    "              \"enum\": [\"add\", \"remove\", \"total\"],\n",
    "              \"description\": \"The type of activity that is being done to the food item. Set to --add-- if items are being added to the fridge. Set to -- remove -- if items are being removed. Set to -- total -- if the total number of item type in the fridge is stated \"\n",
    "            },\n",
    "            \"quantity\": {\n",
    "              \"type\": \"integer\",\n",
    "              \"description\": \"The number of items in the user query. E.g. if -- remove 3 milks -- is the query, set it to 3. In a special case, if -- remove all -- or something similar is stated, set to 10000\"\n",
    "            }\n",
    "            \n",
    "          },\n",
    "          \"required\": [\"item\", \"count_type\", \"quantity\"]\n",
    "        }\n",
    "      }\n",
    "    },\n",
    "    {\"type\": \"code_interpreter\"}\n",
    "]"
   ]
  },
  {
   "cell_type": "code",
   "execution_count": 57,
   "id": "7dc43f55-47e4-4230-9742-c4ab8bc19940",
   "metadata": {},
   "outputs": [
    {
     "name": "stdout",
     "output_type": "stream",
     "text": [
      "FUNCTION CALLED\n",
      "ChatCompletionMessage(content=None, role='assistant', function_call=None, tool_calls=[ChatCompletionMessageToolCall(id='call_IyjnpXSZWeWklMHXSxrFb2oz', function=Function(arguments='{\"item\":\"yogurt\",\"count_type\":\"add\",\"quantity\":3}', name='edit_inventory_table'), type='function')])\n"
     ]
    }
   ],
   "source": [
    "def run_conversation(messages,tools):\n",
    "    # Step 1: send the conversation and available functions to the model\n",
    "    response = client.chat.completions.create(\n",
    "        model=\"gpt-4o\",\n",
    "        messages=messages,\n",
    "        tools=tools,\n",
    "        tool_choice=\"auto\",  # auto is default, but we'll be explicit\n",
    "    )\n",
    "    response_message = response.choices[0].message\n",
    "    tool_calls = response_message.tool_calls\n",
    "    # Step 2: check if the model wanted to call a function\n",
    "\n",
    "    if tool_calls:\n",
    "        # Step 3: call the function\n",
    "        # Note: the JSON response may not always be valid; be sure to handle errors\n",
    "        available_functions = {\n",
    "            \"edit_inventory_table\": edit_inventory_table,\n",
    "        }  # only one function in this example, but you can have multiple\n",
    "        messages.append(response_message)  # extend conversation with assistant's reply\n",
    "        # Step 4: send the info for each function call and function response to the model\n",
    "        for tool_call in tool_calls:\n",
    "            function_name = tool_call.function.name\n",
    "            function_to_call = available_functions[function_name]\n",
    "            function_args = json.loads(tool_call.function.arguments)\n",
    "            function_response = function_to_call(\n",
    "                item=function_args.get(\"item\"),\n",
    "                quantity=function_args.get(\"quantity\"),\n",
    "                count_type = function_args.get(\"count_type\")\n",
    "            )\n",
    "    return response_message\n",
    "print(run_conversation(messages,tools))"
   ]
  },
  {
   "cell_type": "code",
   "execution_count": 68,
   "id": "2505fa1c-86cd-4431-ba37-9298da0756aa",
   "metadata": {},
   "outputs": [],
   "source": [
    "import pandas as pd\n",
    "\n",
    "\n",
    "def edit_inventory_table(item, count_type, quantity):\n",
    "\n",
    "\n",
    "    print(f\"FUNCTION CALLED: {item}, {count_type}, {quantity}\")\n",
    "    df = pd.read_csv('./data/fridge_inventory.csv')\n",
    "    \n",
    "    if count_type == \"add\":\n",
    "        if item in df['item'].values:\n",
    "            df.loc[df['item'] == item, 'quantity'] += quantity\n",
    "        else:\n",
    "            df = pd.concat([df, pd.DataFrame([{'item': item, 'quantity': quantity}])], ignore_index=True)\n",
    "    elif count_type == \"remove\":\n",
    "        if item not in df['item'].values:\n",
    "            raise ValueError(f\"No such item '{item}' exists in the inventory.\")\n",
    "        else:\n",
    "            current_quantity = df.loc[df['item'] == item, 'quantity'].values[0]\n",
    "            new_quantity = current_quantity - quantity\n",
    "            if new_quantity < 0:\n",
    "                raise ValueError(f\"Cannot remove {quantity} {item}(s). Inventory has only {current_quantity} {item}(s).\")\n",
    "            df.loc[df['item'] == item, 'quantity'] = new_quantity\n",
    "    elif count_type == \"total\":\n",
    "        if item not in df['item'].values:\n",
    "            df = pd.concat([df, pd.DataFrame([{'item': item, 'quantity': quantity}])], ignore_index=True)\n",
    "        else:\n",
    "            df.loc[df['item'] == item, 'quantity'] = quantity\n",
    "    else:\n",
    "        raise ValueError(\"Invalid count_type. Should be 'add', 'remove', or 'total'.\")\n",
    "\n",
    "    \n",
    "    df.to_csv('./data/fridge_inventory.csv',index = False)\n",
    "    \n",
    "\n",
    "\n",
    "def fridge_reset():\n",
    "    f = pd.DataFrame({\"item\":[],\"quantity\":[]})\n",
    "    f.to_csv('./data/fridge_inventory.csv', index = False)"
   ]
  },
  {
   "cell_type": "code",
   "execution_count": 69,
   "id": "ae4f4c8c-a0f1-470d-bce5-b15033ca569b",
   "metadata": {},
   "outputs": [
    {
     "data": {
      "text/html": [
       "<div>\n",
       "<style scoped>\n",
       "    .dataframe tbody tr th:only-of-type {\n",
       "        vertical-align: middle;\n",
       "    }\n",
       "\n",
       "    .dataframe tbody tr th {\n",
       "        vertical-align: top;\n",
       "    }\n",
       "\n",
       "    .dataframe thead th {\n",
       "        text-align: right;\n",
       "    }\n",
       "</style>\n",
       "<table border=\"1\" class=\"dataframe\">\n",
       "  <thead>\n",
       "    <tr style=\"text-align: right;\">\n",
       "      <th></th>\n",
       "      <th>item</th>\n",
       "      <th>quantity</th>\n",
       "    </tr>\n",
       "  </thead>\n",
       "  <tbody>\n",
       "  </tbody>\n",
       "</table>\n",
       "</div>"
      ],
      "text/plain": [
       "Empty DataFrame\n",
       "Columns: [item, quantity]\n",
       "Index: []"
      ]
     },
     "execution_count": 69,
     "metadata": {},
     "output_type": "execute_result"
    }
   ],
   "source": [
    "fridge_reset()\n",
    "pd.read_csv('./data/fridge_inventory.csv')"
   ]
  },
  {
   "cell_type": "code",
   "execution_count": 70,
   "id": "d010c4b5-d76c-4a22-868d-45ae5ad253a1",
   "metadata": {},
   "outputs": [],
   "source": [
    "def fridge_mod(message, tools = tools):\n",
    "    messages = [\n",
    "        {\n",
    "            \"role\": \"user\",\n",
    "            \"content\": message\n",
    "        }\n",
    "    ]\n",
    "    run_conversation(messages,tools)\n",
    "    return pd.read_csv('./data/fridge_inventory.csv')"
   ]
  },
  {
   "cell_type": "code",
   "execution_count": 73,
   "id": "5969140d-c80a-4d1e-bf12-c5ecb6cd154f",
   "metadata": {},
   "outputs": [
    {
     "name": "stdout",
     "output_type": "stream",
     "text": [
      "FUNCTION CALLED: bananas, total, 0\n"
     ]
    },
    {
     "data": {
      "text/html": [
       "<div>\n",
       "<style scoped>\n",
       "    .dataframe tbody tr th:only-of-type {\n",
       "        vertical-align: middle;\n",
       "    }\n",
       "\n",
       "    .dataframe tbody tr th {\n",
       "        vertical-align: top;\n",
       "    }\n",
       "\n",
       "    .dataframe thead th {\n",
       "        text-align: right;\n",
       "    }\n",
       "</style>\n",
       "<table border=\"1\" class=\"dataframe\">\n",
       "  <thead>\n",
       "    <tr style=\"text-align: right;\">\n",
       "      <th></th>\n",
       "      <th>item</th>\n",
       "      <th>quantity</th>\n",
       "    </tr>\n",
       "  </thead>\n",
       "  <tbody>\n",
       "    <tr>\n",
       "      <th>0</th>\n",
       "      <td>milk</td>\n",
       "      <td>10</td>\n",
       "    </tr>\n",
       "    <tr>\n",
       "      <th>1</th>\n",
       "      <td>banana</td>\n",
       "      <td>3</td>\n",
       "    </tr>\n",
       "    <tr>\n",
       "      <th>2</th>\n",
       "      <td>bananas</td>\n",
       "      <td>0</td>\n",
       "    </tr>\n",
       "  </tbody>\n",
       "</table>\n",
       "</div>"
      ],
      "text/plain": [
       "      item  quantity\n",
       "0     milk        10\n",
       "1   banana         3\n",
       "2  bananas         0"
      ]
     },
     "execution_count": 73,
     "metadata": {},
     "output_type": "execute_result"
    }
   ],
   "source": [
    "fridge_mod(\"How many bananas are in the fridge?\")"
   ]
  },
  {
   "cell_type": "code",
   "execution_count": 64,
   "id": "9363001a-1107-4676-ae2a-9ad2c5305d86",
   "metadata": {},
   "outputs": [],
   "source": [
    "messages = [\n",
    "    {\n",
    "        \"role\": \"user\",\n",
    "        \"content\": \"I ate one yogurt from the fridge\"\n",
    "    }\n",
    "]"
   ]
  },
  {
   "cell_type": "code",
   "execution_count": 65,
   "id": "4a36963d-3dc7-4906-a8a4-28a5e2ca271c",
   "metadata": {},
   "outputs": [
    {
     "name": "stdout",
     "output_type": "stream",
     "text": [
      "FUNCTION CALLED\n"
     ]
    },
    {
     "ename": "ValueError",
     "evalue": "No such item 'yogurt' exists in the inventory.",
     "output_type": "error",
     "traceback": [
      "\u001b[0;31m---------------------------------------------------------------------------\u001b[0m",
      "\u001b[0;31mValueError\u001b[0m                                Traceback (most recent call last)",
      "Cell \u001b[0;32mIn[65], line 1\u001b[0m\n\u001b[0;32m----> 1\u001b[0m run_conversation(messages,tools)\n\u001b[1;32m      2\u001b[0m fridge \u001b[38;5;241m=\u001b[39m pd\u001b[38;5;241m.\u001b[39mread_csv(\u001b[38;5;124m'\u001b[39m\u001b[38;5;124m./data/fridge_inventory.csv\u001b[39m\u001b[38;5;124m'\u001b[39m)\n\u001b[1;32m      3\u001b[0m fridge\n",
      "Cell \u001b[0;32mIn[57], line 25\u001b[0m, in \u001b[0;36mrun_conversation\u001b[0;34m(messages, tools)\u001b[0m\n\u001b[1;32m     23\u001b[0m         function_to_call \u001b[38;5;241m=\u001b[39m available_functions[function_name]\n\u001b[1;32m     24\u001b[0m         function_args \u001b[38;5;241m=\u001b[39m json\u001b[38;5;241m.\u001b[39mloads(tool_call\u001b[38;5;241m.\u001b[39mfunction\u001b[38;5;241m.\u001b[39marguments)\n\u001b[0;32m---> 25\u001b[0m         function_response \u001b[38;5;241m=\u001b[39m function_to_call(\n\u001b[1;32m     26\u001b[0m             item\u001b[38;5;241m=\u001b[39mfunction_args\u001b[38;5;241m.\u001b[39mget(\u001b[38;5;124m\"\u001b[39m\u001b[38;5;124mitem\u001b[39m\u001b[38;5;124m\"\u001b[39m),\n\u001b[1;32m     27\u001b[0m             quantity\u001b[38;5;241m=\u001b[39mfunction_args\u001b[38;5;241m.\u001b[39mget(\u001b[38;5;124m\"\u001b[39m\u001b[38;5;124mquantity\u001b[39m\u001b[38;5;124m\"\u001b[39m),\n\u001b[1;32m     28\u001b[0m             count_type \u001b[38;5;241m=\u001b[39m function_args\u001b[38;5;241m.\u001b[39mget(\u001b[38;5;124m\"\u001b[39m\u001b[38;5;124mcount_type\u001b[39m\u001b[38;5;124m\"\u001b[39m)\n\u001b[1;32m     29\u001b[0m         )\n\u001b[1;32m     30\u001b[0m \u001b[38;5;28;01mreturn\u001b[39;00m response_message\n",
      "Cell \u001b[0;32mIn[55], line 16\u001b[0m, in \u001b[0;36medit_inventory_table\u001b[0;34m(item, count_type, quantity)\u001b[0m\n\u001b[1;32m     14\u001b[0m \u001b[38;5;28;01melif\u001b[39;00m count_type \u001b[38;5;241m==\u001b[39m \u001b[38;5;124m\"\u001b[39m\u001b[38;5;124mremove\u001b[39m\u001b[38;5;124m\"\u001b[39m:\n\u001b[1;32m     15\u001b[0m     \u001b[38;5;28;01mif\u001b[39;00m item \u001b[38;5;129;01mnot\u001b[39;00m \u001b[38;5;129;01min\u001b[39;00m df[\u001b[38;5;124m'\u001b[39m\u001b[38;5;124mitem\u001b[39m\u001b[38;5;124m'\u001b[39m]\u001b[38;5;241m.\u001b[39mvalues:\n\u001b[0;32m---> 16\u001b[0m         \u001b[38;5;28;01mraise\u001b[39;00m \u001b[38;5;167;01mValueError\u001b[39;00m(\u001b[38;5;124mf\u001b[39m\u001b[38;5;124m\"\u001b[39m\u001b[38;5;124mNo such item \u001b[39m\u001b[38;5;124m'\u001b[39m\u001b[38;5;132;01m{\u001b[39;00mitem\u001b[38;5;132;01m}\u001b[39;00m\u001b[38;5;124m'\u001b[39m\u001b[38;5;124m exists in the inventory.\u001b[39m\u001b[38;5;124m\"\u001b[39m)\n\u001b[1;32m     17\u001b[0m     \u001b[38;5;28;01melse\u001b[39;00m:\n\u001b[1;32m     18\u001b[0m         current_quantity \u001b[38;5;241m=\u001b[39m df\u001b[38;5;241m.\u001b[39mloc[df[\u001b[38;5;124m'\u001b[39m\u001b[38;5;124mitem\u001b[39m\u001b[38;5;124m'\u001b[39m] \u001b[38;5;241m==\u001b[39m item, \u001b[38;5;124m'\u001b[39m\u001b[38;5;124mquantity\u001b[39m\u001b[38;5;124m'\u001b[39m]\u001b[38;5;241m.\u001b[39mvalues[\u001b[38;5;241m0\u001b[39m]\n",
      "\u001b[0;31mValueError\u001b[0m: No such item 'yogurt' exists in the inventory."
     ]
    }
   ],
   "source": [
    "run_conversation(messages,tools)\n",
    "fridge = pd.read_csv('./data/fridge_inventory.csv')\n",
    "fridge"
   ]
  },
  {
   "cell_type": "code",
   "execution_count": null,
   "id": "327f6c25-60ab-45c4-a649-59c2f87e10ef",
   "metadata": {},
   "outputs": [],
   "source": []
  }
 ],
 "metadata": {
  "kernelspec": {
   "display_name": "Python 3 (ipykernel)",
   "language": "python",
   "name": "python3"
  },
  "language_info": {
   "codemirror_mode": {
    "name": "ipython",
    "version": 3
   },
   "file_extension": ".py",
   "mimetype": "text/x-python",
   "name": "python",
   "nbconvert_exporter": "python",
   "pygments_lexer": "ipython3",
   "version": "3.11.7"
  }
 },
 "nbformat": 4,
 "nbformat_minor": 5
}
