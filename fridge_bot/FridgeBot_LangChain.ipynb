{
 "cells": [
  {
   "cell_type": "code",
   "execution_count": 15,
   "id": "1816f159-fbc0-431f-9475-4f1c77418be8",
   "metadata": {},
   "outputs": [],
   "source": [
    "import pandas as pd\n",
    "from openai import OpenAI\n",
    "import os\n",
    "\n",
    "from typing import Literal\n",
    "\n",
    "from langchain.pydantic_v1 import BaseModel, Field\n",
    "from langchain.tools import BaseTool, StructuredTool, tool\n",
    "from langchain.agents import AgentExecutor, create_openai_tools_agent"
   ]
  },
  {
   "cell_type": "code",
   "execution_count": 6,
   "id": "7a9b4675-ae70-45b7-a4d4-524e221db48a",
   "metadata": {},
   "outputs": [],
   "source": [
    "class FridgeUpdateInput(BaseModel):\n",
    "    item: str = Field(description=\"Item that is updated in the fridge. Make sure it is NOT plural, but a singular word\")\n",
    "    count_type: Literal[\"add\", \"remove\", \"total\"] = Field(description=\"Add, remove or set the total of the number of items given.\")\n",
    "    quantity: int = Field(description=\"The number of items in the user query. E.g. if -- remove 3 milks -- is the query, set it to 3. In a special case, if -- remove all -- or something similar is stated, set to 10000\")\n"
   ]
  },
  {
   "cell_type": "code",
   "execution_count": 7,
   "id": "c433e778",
   "metadata": {},
   "outputs": [],
   "source": [
    "@tool(\"fridge-update-tool\", args_schema=FridgeUpdateInput, return_direct=True)\n",
    "def update_fridge(item: str, count_type: str, quantity: int) -> str:\n",
    "    \"\"\"Update the contents of the fridge by adding to, removing from, or setting the number of items in the inventory\"\"\"\n",
    "\n",
    "    print(f\"FUNCTION CALLED: {item}, {count_type}, {quantity}\")\n",
    "    df = pd.read_csv('./data/fridge_inventory.csv')\n",
    "    \n",
    "    if count_type == \"add\":\n",
    "        if item in df['item'].values:\n",
    "            df.loc[df['item'] == item, 'quantity'] += quantity\n",
    "        else:\n",
    "            df = pd.concat([df, pd.DataFrame([{'item': item, 'quantity': quantity}])], ignore_index=True)\n",
    "    elif count_type == \"remove\":\n",
    "        if item not in df['item'].values:\n",
    "            raise ValueError(f\"No such item '{item}' exists in the inventory.\")\n",
    "        else:\n",
    "            current_quantity = df.loc[df['item'] == item, 'quantity'].values[0]\n",
    "            new_quantity = current_quantity - quantity\n",
    "            if new_quantity < 0:\n",
    "                raise ValueError(f\"Cannot remove {quantity} {item}(s). Inventory has only {current_quantity} {item}(s).\")\n",
    "            df.loc[df['item'] == item, 'quantity'] = new_quantity\n",
    "    elif count_type == \"total\":\n",
    "        if item not in df['item'].values:\n",
    "            df = pd.concat([df, pd.DataFrame([{'item': item, 'quantity': quantity}])], ignore_index=True)\n",
    "        else:\n",
    "            df.loc[df['item'] == item, 'quantity'] = quantity\n",
    "    else:\n",
    "        raise ValueError(\"Invalid count_type. Should be 'add', 'remove', or 'total'.\")\n",
    "\n",
    "    \n",
    "    df.to_csv('./data/fridge_inventory.csv',index = False)\n",
    "    return \"Fridge Updated\""
   ]
  },
  {
   "cell_type": "code",
   "execution_count": 13,
   "id": "6c311f95-659f-4c81-84c2-7fce8f3489af",
   "metadata": {},
   "outputs": [],
   "source": [
    "tools = [update_fridge]"
   ]
  },
  {
   "cell_type": "code",
   "execution_count": 21,
   "id": "ed00f51c",
   "metadata": {},
   "outputs": [
    {
     "ename": "AttributeError",
     "evalue": "'OpenAI' object has no attribute 'bind'",
     "output_type": "error",
     "traceback": [
      "\u001b[0;31m---------------------------------------------------------------------------\u001b[0m",
      "\u001b[0;31mAttributeError\u001b[0m                            Traceback (most recent call last)",
      "Cell \u001b[0;32mIn[21], line 10\u001b[0m\n\u001b[1;32m      5\u001b[0m os\u001b[38;5;241m.\u001b[39menviron[\u001b[38;5;124m\"\u001b[39m\u001b[38;5;124mOPENAI_API_KEY\u001b[39m\u001b[38;5;124m\"\u001b[39m] \u001b[38;5;241m=\u001b[39m \u001b[38;5;124m\"\u001b[39m\u001b[38;5;124msk-proj-mkFO1Ae6zZflthRAE9JrT3BlbkFJIOs9vRWLwrdFDkWsLZvG\u001b[39m\u001b[38;5;124m\"\u001b[39m\n\u001b[1;32m      8\u001b[0m client \u001b[38;5;241m=\u001b[39m OpenAI()\n\u001b[0;32m---> 10\u001b[0m agent \u001b[38;5;241m=\u001b[39m create_openai_tools_agent(client, tool, prompt)\n\u001b[1;32m     12\u001b[0m \u001b[38;5;66;03m# Create an agent executor by passing in the agent and tools\u001b[39;00m\n\u001b[1;32m     13\u001b[0m agent_executor \u001b[38;5;241m=\u001b[39m AgentExecutor(agent\u001b[38;5;241m=\u001b[39magent, tools\u001b[38;5;241m=\u001b[39mtools, verbose\u001b[38;5;241m=\u001b[39m\u001b[38;5;28;01mTrue\u001b[39;00m)\n",
      "File \u001b[0;32m~/anaconda3/envs/all_nlp/lib/python3.11/site-packages/langchain/agents/openai_tools/base.py:87\u001b[0m, in \u001b[0;36mcreate_openai_tools_agent\u001b[0;34m(llm, tools, prompt)\u001b[0m\n\u001b[1;32m     84\u001b[0m \u001b[38;5;28;01mif\u001b[39;00m missing_vars:\n\u001b[1;32m     85\u001b[0m     \u001b[38;5;28;01mraise\u001b[39;00m \u001b[38;5;167;01mValueError\u001b[39;00m(\u001b[38;5;124mf\u001b[39m\u001b[38;5;124m\"\u001b[39m\u001b[38;5;124mPrompt missing required variables: \u001b[39m\u001b[38;5;132;01m{\u001b[39;00mmissing_vars\u001b[38;5;132;01m}\u001b[39;00m\u001b[38;5;124m\"\u001b[39m)\n\u001b[0;32m---> 87\u001b[0m llm_with_tools \u001b[38;5;241m=\u001b[39m llm\u001b[38;5;241m.\u001b[39mbind(tools\u001b[38;5;241m=\u001b[39m[convert_to_openai_tool(tool) \u001b[38;5;28;01mfor\u001b[39;00m tool \u001b[38;5;129;01min\u001b[39;00m tools])\n\u001b[1;32m     89\u001b[0m agent \u001b[38;5;241m=\u001b[39m (\n\u001b[1;32m     90\u001b[0m     RunnablePassthrough\u001b[38;5;241m.\u001b[39massign(\n\u001b[1;32m     91\u001b[0m         agent_scratchpad\u001b[38;5;241m=\u001b[39m\u001b[38;5;28;01mlambda\u001b[39;00m x: format_to_openai_tool_messages(\n\u001b[0;32m   (...)\u001b[0m\n\u001b[1;32m     97\u001b[0m     \u001b[38;5;241m|\u001b[39m OpenAIToolsAgentOutputParser()\n\u001b[1;32m     98\u001b[0m )\n\u001b[1;32m     99\u001b[0m \u001b[38;5;28;01mreturn\u001b[39;00m agent\n",
      "\u001b[0;31mAttributeError\u001b[0m: 'OpenAI' object has no attribute 'bind'"
     ]
    }
   ],
   "source": [
    "# set the LANGCHAIN_API_KEY environment variable (create key in settings)\n",
    "from langchain import hub\n",
    "prompt = hub.pull(\"hwchase17/openai-tools-agent\")\n",
    "\n",
    "#os.environ[\"OPENAI_API_KEY\"] # ADD API KEY\n",
    "\n",
    "\n",
    "client = OpenAI()\n",
    "\n",
    "agent = create_openai_tools_agent(client, tool, prompt)\n",
    "\n",
    "# Create an agent executor by passing in the agent and tools\n",
    "agent_executor = AgentExecutor(agent=agent, tools=tools, verbose=True)\n"
   ]
  },
  {
   "cell_type": "code",
   "execution_count": null,
   "id": "cdfa5c4e",
   "metadata": {},
   "outputs": [],
   "source": []
  }
 ],
 "metadata": {
  "kernelspec": {
   "display_name": "Python 3 (ipykernel)",
   "language": "python",
   "name": "python3"
  },
  "language_info": {
   "codemirror_mode": {
    "name": "ipython",
    "version": 3
   },
   "file_extension": ".py",
   "mimetype": "text/x-python",
   "name": "python",
   "nbconvert_exporter": "python",
   "pygments_lexer": "ipython3",
   "version": "3.11.7"
  }
 },
 "nbformat": 4,
 "nbformat_minor": 5
}
